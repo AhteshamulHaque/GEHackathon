{
 "cells": [
  {
   "cell_type": "code",
   "execution_count": 2,
   "metadata": {
    "scrolled": true
   },
   "outputs": [],
   "source": [
    "import spacy"
   ]
  },
  {
   "cell_type": "code",
   "execution_count": 3,
   "metadata": {},
   "outputs": [
    {
     "ename": "OSError",
     "evalue": "[E050] Can't find model 'en_core_web_sm'. It doesn't seem to be a shortcut link, a Python package or a valid path to a data directory.",
     "output_type": "error",
     "traceback": [
      "\u001b[0;31m---------------------------------------------------------------------------\u001b[0m",
      "\u001b[0;31mOSError\u001b[0m                                   Traceback (most recent call last)",
      "\u001b[0;32m<ipython-input-3-8d092272a28e>\u001b[0m in \u001b[0;36m<module>\u001b[0;34m\u001b[0m\n\u001b[0;32m----> 1\u001b[0;31m \u001b[0mnlp\u001b[0m \u001b[0;34m=\u001b[0m \u001b[0mspacy\u001b[0m\u001b[0;34m.\u001b[0m\u001b[0mload\u001b[0m\u001b[0;34m(\u001b[0m\u001b[0;34m\"en_core_web_sm\"\u001b[0m\u001b[0;34m)\u001b[0m\u001b[0;34m\u001b[0m\u001b[0;34m\u001b[0m\u001b[0m\n\u001b[0m",
      "\u001b[0;32m~/.local/lib/python3.7/site-packages/spacy/__init__.py\u001b[0m in \u001b[0;36mload\u001b[0;34m(name, **overrides)\u001b[0m\n\u001b[1;32m     28\u001b[0m     \u001b[0;32mif\u001b[0m \u001b[0mdepr_path\u001b[0m \u001b[0;32mnot\u001b[0m \u001b[0;32min\u001b[0m \u001b[0;34m(\u001b[0m\u001b[0;32mTrue\u001b[0m\u001b[0;34m,\u001b[0m \u001b[0;32mFalse\u001b[0m\u001b[0;34m,\u001b[0m \u001b[0;32mNone\u001b[0m\u001b[0;34m)\u001b[0m\u001b[0;34m:\u001b[0m\u001b[0;34m\u001b[0m\u001b[0;34m\u001b[0m\u001b[0m\n\u001b[1;32m     29\u001b[0m         \u001b[0mdeprecation_warning\u001b[0m\u001b[0;34m(\u001b[0m\u001b[0mWarnings\u001b[0m\u001b[0;34m.\u001b[0m\u001b[0mW001\u001b[0m\u001b[0;34m.\u001b[0m\u001b[0mformat\u001b[0m\u001b[0;34m(\u001b[0m\u001b[0mpath\u001b[0m\u001b[0;34m=\u001b[0m\u001b[0mdepr_path\u001b[0m\u001b[0;34m)\u001b[0m\u001b[0;34m)\u001b[0m\u001b[0;34m\u001b[0m\u001b[0;34m\u001b[0m\u001b[0m\n\u001b[0;32m---> 30\u001b[0;31m     \u001b[0;32mreturn\u001b[0m \u001b[0mutil\u001b[0m\u001b[0;34m.\u001b[0m\u001b[0mload_model\u001b[0m\u001b[0;34m(\u001b[0m\u001b[0mname\u001b[0m\u001b[0;34m,\u001b[0m \u001b[0;34m**\u001b[0m\u001b[0moverrides\u001b[0m\u001b[0;34m)\u001b[0m\u001b[0;34m\u001b[0m\u001b[0;34m\u001b[0m\u001b[0m\n\u001b[0m\u001b[1;32m     31\u001b[0m \u001b[0;34m\u001b[0m\u001b[0m\n\u001b[1;32m     32\u001b[0m \u001b[0;34m\u001b[0m\u001b[0m\n",
      "\u001b[0;32m~/.local/lib/python3.7/site-packages/spacy/util.py\u001b[0m in \u001b[0;36mload_model\u001b[0;34m(name, **overrides)\u001b[0m\n\u001b[1;32m    167\u001b[0m     \u001b[0;32melif\u001b[0m \u001b[0mhasattr\u001b[0m\u001b[0;34m(\u001b[0m\u001b[0mname\u001b[0m\u001b[0;34m,\u001b[0m \u001b[0;34m\"exists\"\u001b[0m\u001b[0;34m)\u001b[0m\u001b[0;34m:\u001b[0m  \u001b[0;31m# Path or Path-like to model data\u001b[0m\u001b[0;34m\u001b[0m\u001b[0;34m\u001b[0m\u001b[0m\n\u001b[1;32m    168\u001b[0m         \u001b[0;32mreturn\u001b[0m \u001b[0mload_model_from_path\u001b[0m\u001b[0;34m(\u001b[0m\u001b[0mname\u001b[0m\u001b[0;34m,\u001b[0m \u001b[0;34m**\u001b[0m\u001b[0moverrides\u001b[0m\u001b[0;34m)\u001b[0m\u001b[0;34m\u001b[0m\u001b[0;34m\u001b[0m\u001b[0m\n\u001b[0;32m--> 169\u001b[0;31m     \u001b[0;32mraise\u001b[0m \u001b[0mIOError\u001b[0m\u001b[0;34m(\u001b[0m\u001b[0mErrors\u001b[0m\u001b[0;34m.\u001b[0m\u001b[0mE050\u001b[0m\u001b[0;34m.\u001b[0m\u001b[0mformat\u001b[0m\u001b[0;34m(\u001b[0m\u001b[0mname\u001b[0m\u001b[0;34m=\u001b[0m\u001b[0mname\u001b[0m\u001b[0;34m)\u001b[0m\u001b[0;34m)\u001b[0m\u001b[0;34m\u001b[0m\u001b[0;34m\u001b[0m\u001b[0m\n\u001b[0m\u001b[1;32m    170\u001b[0m \u001b[0;34m\u001b[0m\u001b[0m\n\u001b[1;32m    171\u001b[0m \u001b[0;34m\u001b[0m\u001b[0m\n",
      "\u001b[0;31mOSError\u001b[0m: [E050] Can't find model 'en_core_web_sm'. It doesn't seem to be a shortcut link, a Python package or a valid path to a data directory."
     ]
    }
   ],
   "source": [
    "nlp = spacy.load(\"en_core_web_sm\")"
   ]
  },
  {
   "cell_type": "code",
   "execution_count": 3,
   "metadata": {},
   "outputs": [],
   "source": [
    "from tqdm import tqdm\n",
    "import spacy\n",
    "import random\n",
    "import json\n",
    "import re"
   ]
  },
  {
   "cell_type": "code",
   "execution_count": 4,
   "metadata": {},
   "outputs": [],
   "source": [
    "training_data = []\n",
    "lines=[]\n",
    "with open('final_training_data.json', 'r') as f:\n",
    "    lines = f.readlines()\n",
    "\n",
    "for line in lines:\n",
    "    data = json.loads(line)\n",
    "    text = data['content']\n",
    "    entities = []\n",
    "    if(data['annotation'] is not None):\n",
    "      for annotation in data['annotation']:\n",
    "          if(annotation is not None):\n",
    "            #only a single point in text annotation.\n",
    "            point = annotation['points'][0]\n",
    "            labels = annotation['label']\n",
    "            # handle both list of labels or a single label.\n",
    "            if not isinstance(labels, list):\n",
    "                labels = [labels]\n",
    "\n",
    "            for label in labels:\n",
    "                #dataturks indices are both inclusive [start, end] but spacy is not [start, end)\n",
    "                entities.append((point['start'], point['end'] + 1 ,label))\n",
    "\n",
    "    if(entities != []):\n",
    "        training_data.append((text, {\"entities\" : entities}))"
   ]
  },
  {
   "cell_type": "code",
   "execution_count": 5,
   "metadata": {},
   "outputs": [
    {
     "data": {
      "text/plain": [
       "446"
      ]
     },
     "execution_count": 5,
     "metadata": {},
     "output_type": "execute_result"
    }
   ],
   "source": [
    "len(training_data)"
   ]
  },
  {
   "cell_type": "code",
   "execution_count": 6,
   "metadata": {},
   "outputs": [
    {
     "data": {
      "text/plain": [
       "[('Mrs. Shalini visited Dinanath Mangeshkar Hospital, Pune.,',\n",
       "  {'entities': [(51, 55, 'GPE'), (21, 49, 'ORG'), (5, 12, 'PERSON')]}),\n",
       " ('Her physician was Dr Arun Wardhan and she was happy with results of ETT. ,',\n",
       "  {'entities': [(21, 33, 'PERSON')]}),\n",
       " (\"Manisha was in Cardiac rehab locally at Indore last week and BP 170/80.  They called us and we increased her HCTZ to 25 mg from 12.5 mg.  States her BP's were fine there since - 130-140/70-80.,\",\n",
       "  {'entities': [(40, 46, 'GPE'), (0, 7, 'PERSON')]}),\n",
       " ('Patient Mrs. Harshita presents for uri. Walks in Mumbai branch of Sassoon Hopital.  Overdue for follow-up by 3 months.Started last week.   Sinus pressure, post nasal drip , headache , ears blocked.,',\n",
       "  {'entities': [(13, 21, 'PERSON')]}),\n",
       " ('Thyroid nodule : 2065, thyroid scan 2066 consistent with hot nodule and toxic multinodular goiter, saw Dr Rakesh Yadav, follow TSH.,',\n",
       "  {'entities': [(106, 118, 'PERSON')]})]"
      ]
     },
     "execution_count": 6,
     "metadata": {},
     "output_type": "execute_result"
    }
   ],
   "source": [
    "training_data[0:5]"
   ]
  },
  {
   "cell_type": "code",
   "execution_count": 7,
   "metadata": {},
   "outputs": [
    {
     "name": "stderr",
     "output_type": "stream",
     "text": [
      "100%|████████████████████████████████████████████████████████████████████████████| 446/446 [00:00<00:00, 226829.10it/s]\n"
     ]
    },
    {
     "name": "stdout",
     "output_type": "stream",
     "text": [
      "Statring iteration 0\n",
      "{'ner': 941.1132381892475}\n",
      "Statring iteration 1\n",
      "{'ner': 400.40759329843576}\n",
      "Statring iteration 2\n",
      "{'ner': 333.07881598794944}\n",
      "Statring iteration 3\n",
      "{'ner': 314.61584145450774}\n",
      "Statring iteration 4\n",
      "{'ner': 232.70255729767442}\n",
      "Statring iteration 5\n",
      "{'ner': 443.7891955251608}\n",
      "Statring iteration 6\n",
      "{'ner': 250.67806476251386}\n",
      "Statring iteration 7\n",
      "{'ner': 250.18370509213162}\n",
      "Statring iteration 8\n",
      "{'ner': 199.82355202329992}\n",
      "Statring iteration 9\n",
      "{'ner': 183.85024864078042}\n",
      "Statring iteration 10\n",
      "{'ner': 192.7955765401986}\n",
      "Statring iteration 11\n",
      "{'ner': 172.1267300866909}\n",
      "Statring iteration 12\n",
      "{'ner': 175.66922857734937}\n",
      "Statring iteration 13\n",
      "{'ner': 271.3620839865394}\n",
      "Statring iteration 14\n",
      "{'ner': 171.35827342153075}\n",
      "Statring iteration 15\n",
      "{'ner': 195.02814599917966}\n",
      "Statring iteration 16\n",
      "{'ner': 173.34813549945895}\n",
      "Statring iteration 17\n",
      "{'ner': 156.22377368169631}\n",
      "Statring iteration 18\n",
      "{'ner': 116.24925079307798}\n",
      "Statring iteration 19\n",
      "{'ner': 164.73382519634256}\n"
     ]
    }
   ],
   "source": [
    "## Training a blank spacy english model.\n",
    "\n",
    "nlp = spacy.blank('en')  # create blank Language class\n",
    "# create the built-in pipeline components and add them to the pipeline\n",
    "# nlp.create_pipe works for built-ins that are registered with spaCy\n",
    "if 'ner' not in nlp.pipe_names:\n",
    "    ner = nlp.create_pipe('ner')\n",
    "    nlp.add_pipe(ner, last=True)\n",
    "\n",
    "# add labels\n",
    "for _, annotations in tqdm(training_data):\n",
    "    for ent in annotations.get('entities'):\n",
    "        ner.add_label(ent[2])\n",
    "\n",
    "# get names of other pipes to disable them during training\n",
    "other_pipes = [pipe for pipe in nlp.pipe_names if pipe != 'ner']\n",
    "with nlp.disable_pipes(*other_pipes):  # only train NER\n",
    "    optimizer = nlp.begin_training()\n",
    "    for itn in range(20):\n",
    "        print(\"Statring iteration \" + str(itn))\n",
    "        random.shuffle(training_data)\n",
    "        losses = {}\n",
    "        for text, annotations in training_data:\n",
    "            nlp.update(\n",
    "                [text],  # batch of texts\n",
    "                [annotations],  # batch of annotations\n",
    "                drop=0.2,  # dropout - make it harder to memorise data\n",
    "                sgd=optimizer,  # callable to update weights\n",
    "                losses=losses)\n",
    "        print(losses)"
   ]
  },
  {
   "cell_type": "code",
   "execution_count": 8,
   "metadata": {},
   "outputs": [
    {
     "name": "stderr",
     "output_type": "stream",
     "text": [
      "100%|████████████████████████████████████████████████████████████████████████████| 446/446 [00:00<00:00, 446351.61it/s]\n"
     ]
    },
    {
     "name": "stdout",
     "output_type": "stream",
     "text": [
      "Statring iteration 0\n",
      "{'ner': 477.690066402281}\n",
      "Statring iteration 1\n",
      "{'ner': 258.81002657082036}\n",
      "Statring iteration 2\n",
      "{'ner': 226.30169552253994}\n",
      "Statring iteration 3\n",
      "{'ner': 201.39478648757986}\n",
      "Statring iteration 4\n",
      "{'ner': 146.3892170912794}\n",
      "Statring iteration 5\n",
      "{'ner': 160.1190894002787}\n",
      "Statring iteration 6\n",
      "{'ner': 147.76230418976567}\n",
      "Statring iteration 7\n",
      "{'ner': 141.16188566155577}\n",
      "Statring iteration 8\n",
      "{'ner': 160.5881912364581}\n",
      "Statring iteration 9\n",
      "{'ner': 163.31768586617036}\n",
      "Statring iteration 10\n",
      "{'ner': 151.75054687272052}\n",
      "Statring iteration 11\n",
      "{'ner': 124.76346305919688}\n",
      "Statring iteration 12\n",
      "{'ner': 137.88316379811113}\n",
      "Statring iteration 13\n",
      "{'ner': 131.0023602691603}\n",
      "Statring iteration 14\n",
      "{'ner': 119.55063925630422}\n",
      "Statring iteration 15\n",
      "{'ner': 123.80524862849335}\n",
      "Statring iteration 16\n",
      "{'ner': 114.04468242458584}\n",
      "Statring iteration 17\n",
      "{'ner': 82.99532781608653}\n",
      "Statring iteration 18\n",
      "{'ner': 98.80464153789157}\n",
      "Statring iteration 19\n",
      "{'ner': 86.49503042335417}\n"
     ]
    }
   ],
   "source": [
    "## Training pre trained spacy model.\n",
    "\n",
    "nlp2 = spacy.load('en_core_web_sm')  # create blank Language class\n",
    "# create the built-in pipeline components and add them to the pipeline\n",
    "# nlp.create_pipe works for built-ins that are registered with spaCy\n",
    "if 'ner' not in nlp2.pipe_names:\n",
    "    ner = nlp2.create_pipe('ner')\n",
    "    nlp2.add_pipe(ner, last=True)\n",
    "\n",
    "# add labels\n",
    "for _, annotations in tqdm(training_data):\n",
    "    for ent in annotations.get('entities'):\n",
    "        ner.add_label(ent[2])\n",
    "\n",
    "# get names of other pipes to disable them during training\n",
    "other_pipes = [pipe for pipe in nlp2.pipe_names if pipe != 'ner']\n",
    "with nlp2.disable_pipes(*other_pipes):  # only train NER\n",
    "    optimizer = nlp2.begin_training()\n",
    "    for itn in range(20):\n",
    "        print(\"Statring iteration \" + str(itn))\n",
    "        random.shuffle(training_data)\n",
    "        losses = {}\n",
    "        for text, annotations in training_data:\n",
    "            nlp2.update(\n",
    "                [text],  # batch of texts\n",
    "                [annotations],  # batch of annotations\n",
    "                drop=0.2,  # dropout - make it harder to memorise data\n",
    "                sgd=optimizer,  # callable to update weights\n",
    "                losses=losses)\n",
    "        print(losses)"
   ]
  },
  {
   "cell_type": "code",
   "execution_count": 26,
   "metadata": {},
   "outputs": [],
   "source": [
    "# Saving the trained model to disk.\n",
    "nlp2.to_disk('trained_spacy_model2')"
   ]
  },
  {
   "cell_type": "code",
   "execution_count": null,
   "metadata": {},
   "outputs": [],
   "source": []
  }
 ],
 "metadata": {
  "kernelspec": {
   "display_name": "Python 3",
   "language": "python",
   "name": "python3"
  },
  "language_info": {
   "codemirror_mode": {
    "name": "ipython",
    "version": 3
   },
   "file_extension": ".py",
   "mimetype": "text/x-python",
   "name": "python",
   "nbconvert_exporter": "python",
   "pygments_lexer": "ipython3",
   "version": "3.7.4"
  }
 },
 "nbformat": 4,
 "nbformat_minor": 2
}
